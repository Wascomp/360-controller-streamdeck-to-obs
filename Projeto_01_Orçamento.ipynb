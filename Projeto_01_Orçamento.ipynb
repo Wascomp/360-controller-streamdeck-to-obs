{
  "nbformat": 4,
  "nbformat_minor": 0,
  "metadata": {
    "colab": {
      "provenance": [],
      "authorship_tag": "ABX9TyOdxCHfbHksDtaY7Ygc1Fb8",
      "include_colab_link": true
    },
    "kernelspec": {
      "name": "python3",
      "display_name": "Python 3"
    },
    "language_info": {
      "name": "python"
    }
  },
  "cells": [
    {
      "cell_type": "markdown",
      "metadata": {
        "id": "view-in-github",
        "colab_type": "text"
      },
      "source": [
        "<a href=\"https://colab.research.google.com/github/Wascomp/360-controller-streamdeck-to-obs/blob/main/Projeto_01_Or%C3%A7amento.ipynb\" target=\"_parent\"><img src=\"https://colab.research.google.com/assets/colab-badge.svg\" alt=\"Open In Colab\"/></a>"
      ]
    },
    {
      "cell_type": "code",
      "source": [
        "!pip install fpdf"
      ],
      "metadata": {
        "colab": {
          "base_uri": "https://localhost:8080/"
        },
        "id": "tR-he5k9vYHN",
        "outputId": "4465952e-214b-434d-833b-6b2f0b307287"
      },
      "execution_count": null,
      "outputs": [
        {
          "output_type": "stream",
          "name": "stdout",
          "text": [
            "Collecting fpdf\n",
            "  Downloading fpdf-1.7.2.tar.gz (39 kB)\n",
            "  Preparing metadata (setup.py) ... \u001b[?25l\u001b[?25hdone\n",
            "Building wheels for collected packages: fpdf\n",
            "  Building wheel for fpdf (setup.py) ... \u001b[?25l\u001b[?25hdone\n",
            "  Created wheel for fpdf: filename=fpdf-1.7.2-py2.py3-none-any.whl size=40702 sha256=d47fb2a079048d070c42df189a442f19fda94705379af1dd73c574ef1bb500be\n",
            "  Stored in directory: /root/.cache/pip/wheels/f9/95/ba/f418094659025eb9611f17cbcaf2334236bf39a0c3453ea455\n",
            "Successfully built fpdf\n",
            "Installing collected packages: fpdf\n",
            "Successfully installed fpdf-1.7.2\n"
          ]
        }
      ]
    },
    {
      "cell_type": "code",
      "execution_count": 4,
      "metadata": {
        "id": "izLSzFo3t9JX",
        "colab": {
          "base_uri": "https://localhost:8080/"
        },
        "outputId": "f265bb6d-cc07-443d-d22f-9219da5b3c4b"
      },
      "outputs": [
        {
          "output_type": "stream",
          "name": "stdout",
          "text": [
            "Digite a descrição do projeto: Sistema Python\n",
            "Digite o total de horas estimadas: 300\n",
            "Digite o valor da hora trabalhada: 150\n",
            "Digite o prazo estimado para conclusão: 4 meses\n",
            "Orçamento gerado com sucesso!\n"
          ]
        }
      ],
      "source": [
        "from fpdf import FPDF\n",
        "\n",
        "# Funções para obter os dados do usuário\n",
        "projeto = input(\"Digite a descrição do projeto: \")\n",
        "horas_estimadas = int(input(\"Digite o total de horas estimadas: \"))\n",
        "valor_hora = float(input(\"Digite o valor da hora trabalhada: \"))\n",
        "prazo = input(\"Digite o prazo estimado para conclusão: \")\n",
        "\n",
        "# Cálculo do valor total do projeto\n",
        "valor_total = horas_estimadas * valor_hora\n",
        "\n",
        "# Criação do PDF\n",
        "pdf = FPDF()\n",
        "pdf.add_page()\n",
        "pdf.set_font(\"Arial\", size=12)\n",
        "pdf.image(\"template.png\", x=0, y=0, w=210)  # Ajuste a largura conforme necessário\n",
        "\n",
        "# Adicionando textos ao PDF\n",
        "pdf.text(115, 145, projeto)\n",
        "pdf.text(115, 160, str(horas_estimadas))\n",
        "pdf.text(115, 175, str(valor_hora))\n",
        "pdf.text(115, 190, prazo)\n",
        "pdf.text(115, 205, str(valor_total))\n",
        "\n",
        "# Salvando o PDF\n",
        "pdf.output(\"Orçamento.pdf\")\n",
        "\n",
        "print(\"Orçamento gerado com sucesso!\")\n"
      ]
    }
  ]
}